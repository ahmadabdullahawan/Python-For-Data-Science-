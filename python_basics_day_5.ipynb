{
  "nbformat": 4,
  "nbformat_minor": 0,
  "metadata": {
    "colab": {
      "provenance": []
    },
    "kernelspec": {
      "name": "python3",
      "display_name": "Python 3"
    },
    "language_info": {
      "name": "python"
    }
  },
  "cells": [
    {
      "cell_type": "code",
      "execution_count": 1,
      "metadata": {
        "id": "nBqlWgCgJ700",
        "colab": {
          "base_uri": "https://localhost:8080/"
        },
        "outputId": "2759885b-2255-4629-ca4d-2d830a3b1521"
      },
      "outputs": [
        {
          "output_type": "stream",
          "name": "stdout",
          "text": [
            "apple \n",
            "orange\n",
            "love\n",
            "75\n",
            "88\n"
          ]
        }
      ],
      "source": [
        "# lists and tupples\n",
        "#list is a container to store values of any data type\n",
        "list =[\"apple \",\"orange\",\"love\",75,88,False]\n",
        "for i in list:\n",
        "  print(i)"
      ]
    },
    {
      "cell_type": "code",
      "source": [
        "list =[\"apple \",\"orange\",\"love\",75,88,False]\n",
        "list[0]\n",
        "list[1]\n",
        "list[2]"
      ],
      "metadata": {
        "colab": {
          "base_uri": "https://localhost:8080/",
          "height": 35
        },
        "id": "ftXCZw2n_zsL",
        "outputId": "f1b12331-3e5e-4a14-956d-543ef0d28dd2"
      },
      "execution_count": 7,
      "outputs": [
        {
          "output_type": "execute_result",
          "data": {
            "text/plain": [
              "'love'"
            ],
            "application/vnd.google.colaboratory.intrinsic+json": {
              "type": "string"
            }
          },
          "metadata": {},
          "execution_count": 7
        }
      ]
    },
    {
      "cell_type": "code",
      "source": [
        "#as we know that we can do changes in strings but we can do it in list\n",
        "list[0]=\"banana\"\n",
        "list"
      ],
      "metadata": {
        "colab": {
          "base_uri": "https://localhost:8080/"
        },
        "id": "HirWqw5yAj8J",
        "outputId": "98bdb348-7202-449a-e5f4-809edb17ed20"
      },
      "execution_count": 8,
      "outputs": [
        {
          "output_type": "execute_result",
          "data": {
            "text/plain": [
              "['banana', 'orange', 'love', 75, 88, False]"
            ]
          },
          "metadata": {},
          "execution_count": 8
        }
      ]
    },
    {
      "cell_type": "code",
      "source": [
        "#proof of we cannot do any changes in string\n",
        "a=\"Abdullah\"\n",
        "a[0]\n",
        "a[0]=\"B\""
      ],
      "metadata": {
        "colab": {
          "base_uri": "https://localhost:8080/",
          "height": 176
        },
        "id": "qe8WHs3kAv4J",
        "outputId": "5c351f56-f81c-4430-8600-43dc0b9c546d"
      },
      "execution_count": 10,
      "outputs": [
        {
          "output_type": "error",
          "ename": "TypeError",
          "evalue": "'str' object does not support item assignment",
          "traceback": [
            "\u001b[0;31m---------------------------------------------------------------------------\u001b[0m",
            "\u001b[0;31mTypeError\u001b[0m                                 Traceback (most recent call last)",
            "\u001b[0;32m<ipython-input-10-862b53a68f91>\u001b[0m in \u001b[0;36m<cell line: 4>\u001b[0;34m()\u001b[0m\n\u001b[1;32m      2\u001b[0m \u001b[0ma\u001b[0m\u001b[0;34m=\u001b[0m\u001b[0;34m\"Abdullah\"\u001b[0m\u001b[0;34m\u001b[0m\u001b[0;34m\u001b[0m\u001b[0m\n\u001b[1;32m      3\u001b[0m \u001b[0ma\u001b[0m\u001b[0;34m[\u001b[0m\u001b[0;36m0\u001b[0m\u001b[0;34m]\u001b[0m\u001b[0;34m\u001b[0m\u001b[0;34m\u001b[0m\u001b[0m\n\u001b[0;32m----> 4\u001b[0;31m \u001b[0ma\u001b[0m\u001b[0;34m[\u001b[0m\u001b[0;36m0\u001b[0m\u001b[0;34m]\u001b[0m\u001b[0;34m=\u001b[0m\u001b[0;34m\"B\"\u001b[0m\u001b[0;34m\u001b[0m\u001b[0;34m\u001b[0m\u001b[0m\n\u001b[0m",
            "\u001b[0;31mTypeError\u001b[0m: 'str' object does not support item assignment"
          ]
        }
      ]
    },
    {
      "cell_type": "code",
      "source": [
        "#UNLIKE STRINGS LISTS ARE MUTABLE\n",
        "print(list[1:4])"
      ],
      "metadata": {
        "colab": {
          "base_uri": "https://localhost:8080/"
        },
        "id": "PUxCzXU9BBl3",
        "outputId": "2f2724bc-fede-4aea-bf1f-109f15ad9066"
      },
      "execution_count": 11,
      "outputs": [
        {
          "output_type": "stream",
          "name": "stdout",
          "text": [
            "['orange', 'love', 75]\n"
          ]
        }
      ]
    },
    {
      "cell_type": "code",
      "source": [
        "#methods of lists\n",
        "list\n",
        "list.append(\"abdullah\")\n",
        "list\n"
      ],
      "metadata": {
        "colab": {
          "base_uri": "https://localhost:8080/"
        },
        "id": "rc13G4L4B0Gc",
        "outputId": "740485fe-2a0e-43f0-d30c-c57902f4df28"
      },
      "execution_count": 14,
      "outputs": [
        {
          "output_type": "execute_result",
          "data": {
            "text/plain": [
              "['banana', 'orange', 'love', 75, 88, False, 'abdullah', 'abdullah']"
            ]
          },
          "metadata": {},
          "execution_count": 14
        }
      ]
    },
    {
      "cell_type": "code",
      "source": [
        "l1=[3,1,7,2,5]\n",
        "l1.sort()\n",
        "print(l1)\n",
        "l1.reverse()\n",
        "print(l1)\n",
        "l1.insert(3,333)\n",
        "print(l1)\n",
        "l1.pop(1)\n",
        "print(l1)\n",
        "l1.remove(1)\n",
        "print(l1)"
      ],
      "metadata": {
        "colab": {
          "base_uri": "https://localhost:8080/"
        },
        "id": "k3v5jU7bCA8g",
        "outputId": "c8185daf-f9df-4835-9f99-d5ed0d0efdcc"
      },
      "execution_count": 27,
      "outputs": [
        {
          "output_type": "stream",
          "name": "stdout",
          "text": [
            "[1, 2, 3, 5, 7]\n",
            "[7, 5, 3, 2, 1]\n",
            "[7, 5, 3, 333, 2, 1]\n",
            "[7, 3, 333, 2, 1]\n",
            "[7, 3, 333, 2]\n"
          ]
        }
      ]
    },
    {
      "cell_type": "code",
      "source": [
        "#TUPPLES\n",
        "#Tupples are data types that are immutable and heterogenous collection of elements\n",
        "a=() # empty tupple\n",
        "b=(1,) # tupple containing one element\n",
        "print(b)\n",
        "c=(1,2)\n",
        "print(c)\n"
      ],
      "metadata": {
        "colab": {
          "base_uri": "https://localhost:8080/"
        },
        "id": "Ek4r3r_cE3xg",
        "outputId": "37fc301d-1bd5-4866-b44f-beae341a3e5f"
      },
      "execution_count": 33,
      "outputs": [
        {
          "output_type": "stream",
          "name": "stdout",
          "text": [
            "(1,)\n",
            "(1, 2)\n"
          ]
        }
      ]
    },
    {
      "cell_type": "code",
      "source": [
        "tupple=(1,\"abdullah\",3.0)\n",
        "for i in tupple:\n",
        "  print(i)"
      ],
      "metadata": {
        "colab": {
          "base_uri": "https://localhost:8080/"
        },
        "id": "Q4he0IyAI-TD",
        "outputId": "ce90a9d4-8abf-44b0-c6df-17bd4ed1ff4b"
      },
      "execution_count": 34,
      "outputs": [
        {
          "output_type": "stream",
          "name": "stdout",
          "text": [
            "1\n",
            "abdullah\n",
            "3.0\n"
          ]
        }
      ]
    },
    {
      "cell_type": "code",
      "source": [
        "#methods of tupples\n",
        "i=tupple.count(1) #means no of times 1 occur in tupple\n",
        "print(i)\n",
        "l=tupple.index(\"abdullah\")\n",
        "print(l)"
      ],
      "metadata": {
        "colab": {
          "base_uri": "https://localhost:8080/"
        },
        "id": "SaWqeQwSJhji",
        "outputId": "5c0af4f2-6c85-46d7-9355-2a758f13aedd"
      },
      "execution_count": 37,
      "outputs": [
        {
          "output_type": "stream",
          "name": "stdout",
          "text": [
            "1\n",
            "1\n"
          ]
        }
      ]
    },
    {
      "cell_type": "code",
      "source": [
        "print(tupple[0])\n",
        "tupple[1]"
      ],
      "metadata": {
        "colab": {
          "base_uri": "https://localhost:8080/",
          "height": 52
        },
        "id": "ISbz8dPmJ5Hk",
        "outputId": "5fa06524-0e9f-4ee8-afb3-1096b3fad1b3"
      },
      "execution_count": 40,
      "outputs": [
        {
          "output_type": "stream",
          "name": "stdout",
          "text": [
            "1\n"
          ]
        },
        {
          "output_type": "execute_result",
          "data": {
            "text/plain": [
              "'abdullah'"
            ],
            "application/vnd.google.colaboratory.intrinsic+json": {
              "type": "string"
            }
          },
          "metadata": {},
          "execution_count": 40
        }
      ]
    },
    {
      "cell_type": "code",
      "source": [
        "#dictionaries and sets\n",
        "# a dictionary is a collection of key value pair\n",
        "a={'physics': 100,\n",
        "   'chem':200,\n",
        "   'list':[1,2,3,4]\n",
        "   }\n",
        "print(a)\n"
      ],
      "metadata": {
        "colab": {
          "base_uri": "https://localhost:8080/"
        },
        "id": "nwBZUMmwS3Lo",
        "outputId": "a140560e-8e73-44e3-fe77-52356bf54ca0"
      },
      "execution_count": 42,
      "outputs": [
        {
          "output_type": "stream",
          "name": "stdout",
          "text": [
            "{'physics': 100, 'chem': 200, 'list': [1, 2, 3, 4]}\n"
          ]
        }
      ]
    },
    {
      "cell_type": "code",
      "source": [
        "zee=a[\"chem\"]\n",
        "print(zee)\n",
        "a['list']"
      ],
      "metadata": {
        "colab": {
          "base_uri": "https://localhost:8080/"
        },
        "id": "W7CP7DZ4T2PF",
        "outputId": "0f162a01-0e34-454a-9593-9e024d31639b"
      },
      "execution_count": 46,
      "outputs": [
        {
          "output_type": "stream",
          "name": "stdout",
          "text": [
            "200\n"
          ]
        },
        {
          "output_type": "execute_result",
          "data": {
            "text/plain": [
              "[1, 2, 3, 4]"
            ]
          },
          "metadata": {},
          "execution_count": 46
        }
      ]
    },
    {
      "cell_type": "code",
      "source": [
        "#methods of dictionaries\n",
        "print(a.keys())\n",
        "print(a.values())\n",
        "print(a.items())\n",
        "print(a.get(\"physics\"))\n",
        "print(a.update({\"maths\":300}))\n",
        "print(a)\n"
      ],
      "metadata": {
        "colab": {
          "base_uri": "https://localhost:8080/"
        },
        "id": "7A6dpGP9UN9g",
        "outputId": "aaa425f4-4ec3-48f4-b257-b86e92b779a9"
      },
      "execution_count": 49,
      "outputs": [
        {
          "output_type": "stream",
          "name": "stdout",
          "text": [
            "dict_keys(['physics', 'chem', 'list', 'maths'])\n",
            "dict_values([100, 200, [1, 2, 3, 4], 300])\n",
            "dict_items([('physics', 100), ('chem', 200), ('list', [1, 2, 3, 4]), ('maths', 300)])\n",
            "100\n",
            "None\n",
            "{'physics': 100, 'chem': 200, 'list': [1, 2, 3, 4], 'maths': 300}\n"
          ]
        }
      ]
    },
    {
      "cell_type": "code",
      "source": [
        "#sets in python\n",
        "#collection of unoredered non repititive elements\n",
        "s={1,2,3,4,5,6}\n",
        "print(s)"
      ],
      "metadata": {
        "colab": {
          "base_uri": "https://localhost:8080/"
        },
        "id": "MUVUV6gGUvQq",
        "outputId": "2fa36365-5e54-4b07-87ef-4d817f9c6029"
      },
      "execution_count": 63,
      "outputs": [
        {
          "output_type": "stream",
          "name": "stdout",
          "text": [
            "{1, 2, 3, 4, 5, 6}\n"
          ]
        }
      ]
    },
    {
      "cell_type": "code",
      "source": [
        "#sets are immutable\n",
        "#sets are unindexed\n",
        "for i in s:\n",
        "  print(i)"
      ],
      "metadata": {
        "colab": {
          "base_uri": "https://localhost:8080/"
        },
        "id": "FT_d0u6lXUpK",
        "outputId": "8c2318da-cc0d-47ae-e2c0-2a262c874052"
      },
      "execution_count": 64,
      "outputs": [
        {
          "output_type": "stream",
          "name": "stdout",
          "text": [
            "1\n",
            "2\n",
            "3\n",
            "4\n",
            "5\n",
            "6\n"
          ]
        }
      ]
    },
    {
      "cell_type": "code",
      "source": [
        "#methods on set\n",
        "print(s)\n",
        "x=len(s)\n",
        "print(x)\n",
        "##y=s.add(7)\n",
        "##print(s)\n",
        "##z=s.remove(7)\n",
        "##print(s)\n",
        "s.clear\n",
        "\n",
        "\n",
        "\n"
      ],
      "metadata": {
        "colab": {
          "base_uri": "https://localhost:8080/"
        },
        "id": "EJiC8j2qXvSw",
        "outputId": "acecf695-31a8-4da9-9e72-cb2837b29221"
      },
      "execution_count": 66,
      "outputs": [
        {
          "output_type": "stream",
          "name": "stdout",
          "text": [
            "{1, 2, 3, 4, 5, 6}\n",
            "6\n"
          ]
        },
        {
          "output_type": "execute_result",
          "data": {
            "text/plain": [
              "<function set.clear>"
            ]
          },
          "metadata": {},
          "execution_count": 66
        }
      ]
    },
    {
      "cell_type": "code",
      "source": [
        "f={1,2,3,4,5,6,7,8,9}\n",
        "f.union({8,11,12,13})\n",
        "f.intersection({8,11,12,13})\n"
      ],
      "metadata": {
        "colab": {
          "base_uri": "https://localhost:8080/"
        },
        "id": "go5sLLbVY_Fy",
        "outputId": "ce1ad7c0-77ef-46f2-9c12-3d49b50b7ab4"
      },
      "execution_count": 71,
      "outputs": [
        {
          "output_type": "execute_result",
          "data": {
            "text/plain": [
              "{8}"
            ]
          },
          "metadata": {},
          "execution_count": 71
        }
      ]
    }
  ]
}