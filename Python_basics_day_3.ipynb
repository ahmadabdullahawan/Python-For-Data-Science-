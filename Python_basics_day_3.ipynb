{
  "nbformat": 4,
  "nbformat_minor": 0,
  "metadata": {
    "colab": {
      "provenance": []
    },
    "kernelspec": {
      "name": "python3",
      "display_name": "Python 3"
    },
    "language_info": {
      "name": "python"
    }
  },
  "cells": [
    {
      "cell_type": "code",
      "execution_count": null,
      "metadata": {
        "colab": {
          "base_uri": "https://localhost:8080/"
        },
        "id": "D_4s_AM5Ke7P",
        "outputId": "2d654cd2-aed2-4b1e-af53-16bdbdff325a"
      },
      "outputs": [
        {
          "output_type": "stream",
          "name": "stdout",
          "text": [
            "value 543.75\n"
          ]
        }
      ],
      "source": [
        "shares= 150\n",
        "price= 3 + 5.0/8.0\n",
        "value= shares * price\n",
        "print(\"value\",value)"
      ]
    },
    {
      "cell_type": "code",
      "source": [
        "portfolio = 0\n",
        "portfolio += 150 * 2 + 1/4.0 #this is a shothand that adds the value on the left side to the value of portfolio\n",
        "portfolio += 75 * 1 + 7/8.0\n",
        "print(\"portfolio\", portfolio)\n"
      ],
      "metadata": {
        "colab": {
          "base_uri": "https://localhost:8080/"
        },
        "id": "jD3X4oiaKox2",
        "outputId": "244b5a47-428e-402a-e425-5ef243405fe5"
      },
      "execution_count": null,
      "outputs": [
        {
          "output_type": "stream",
          "name": "stdout",
          "text": [
            "portfolio 376.125\n"
          ]
        }
      ]
    },
    {
      "cell_type": "code",
      "source": [
        "x, y, z = \"Orange\", \"Banana\", \"Cherry\"\n",
        "print(x)\n",
        "print(y)\n",
        "print(z)\n"
      ],
      "metadata": {
        "colab": {
          "base_uri": "https://localhost:8080/"
        },
        "id": "j5LjiC2IKv16",
        "outputId": "d808b37b-d667-45ec-cfb0-e5111bedaa21"
      },
      "execution_count": null,
      "outputs": [
        {
          "output_type": "stream",
          "name": "stdout",
          "text": [
            "Orange\n",
            "Banana\n",
            "Cherry\n"
          ]
        }
      ]
    },
    {
      "cell_type": "code",
      "source": [
        "first_number = 4\n",
        "second_number = 6\n",
        "summation = first_number + second_number"
      ],
      "metadata": {
        "id": "li2O7LHDK4jY"
      },
      "execution_count": null,
      "outputs": []
    },
    {
      "cell_type": "code",
      "source": [
        "x='hello'\n",
        "y=(input('your name '))\n",
        "z=(input('your age '))\n",
        "print(x,y,z)\n"
      ],
      "metadata": {
        "colab": {
          "base_uri": "https://localhost:8080/"
        },
        "id": "bALyKUfmK7SB",
        "outputId": "90e951bc-499d-4151-dd21-0c2a773d2bb3"
      },
      "execution_count": null,
      "outputs": [
        {
          "output_type": "stream",
          "name": "stdout",
          "text": [
            "your name ali\n",
            "your age 10\n",
            "hello ali 10\n"
          ]
        }
      ]
    },
    {
      "cell_type": "code",
      "source": [
        "# now starting with conditional logics\n",
        "#logical operators are either true or false or 0 or 1\n",
        "# logical operators are of different types\n",
        "#1 equal to ==\n",
        "#2 less than equal to <=\n",
        "#greter than equal to >=\n",
        "#less than <\n",
        "#greater than >\n",
        "#not equal to !="
      ],
      "metadata": {
        "id": "pd5YheWZMDyn"
      },
      "execution_count": null,
      "outputs": []
    },
    {
      "cell_type": "code",
      "source": [
        "print(4==4)"
      ],
      "metadata": {
        "colab": {
          "base_uri": "https://localhost:8080/"
        },
        "id": "4C4VzjJ8NL_i",
        "outputId": "25036386-b9e5-440a-f947-2a2d08108fb9"
      },
      "execution_count": null,
      "outputs": [
        {
          "output_type": "stream",
          "name": "stdout",
          "text": [
            "True\n"
          ]
        }
      ]
    },
    {
      "cell_type": "code",
      "source": [
        "print(4!=4)"
      ],
      "metadata": {
        "colab": {
          "base_uri": "https://localhost:8080/"
        },
        "id": "pkDnC-peNRHc",
        "outputId": "23a8eb25-91f3-4b4c-daa3-8c5f8591841d"
      },
      "execution_count": null,
      "outputs": [
        {
          "output_type": "stream",
          "name": "stdout",
          "text": [
            "False\n"
          ]
        }
      ]
    },
    {
      "cell_type": "code",
      "source": [
        "print(4>3)"
      ],
      "metadata": {
        "colab": {
          "base_uri": "https://localhost:8080/"
        },
        "id": "D6DHRptGNVb2",
        "outputId": "2812686b-5490-4c45-8ab3-fdf749dde5f6"
      },
      "execution_count": null,
      "outputs": [
        {
          "output_type": "stream",
          "name": "stdout",
          "text": [
            "True\n"
          ]
        }
      ]
    },
    {
      "cell_type": "code",
      "source": [
        "print(3<4)"
      ],
      "metadata": {
        "colab": {
          "base_uri": "https://localhost:8080/"
        },
        "id": "tGVqD9beNVgB",
        "outputId": "43b64844-2261-4569-9dff-be26c88d9e45"
      },
      "execution_count": null,
      "outputs": [
        {
          "output_type": "stream",
          "name": "stdout",
          "text": [
            "True\n"
          ]
        }
      ]
    },
    {
      "cell_type": "code",
      "source": [
        "print(3<=5)"
      ],
      "metadata": {
        "colab": {
          "base_uri": "https://localhost:8080/"
        },
        "id": "r1XSFJJCNbkv",
        "outputId": "5ce80e82-0798-4696-91c6-570e69700539"
      },
      "execution_count": null,
      "outputs": [
        {
          "output_type": "stream",
          "name": "stdout",
          "text": [
            "True\n"
          ]
        }
      ]
    },
    {
      "cell_type": "code",
      "source": [
        "print(5<=3)"
      ],
      "metadata": {
        "colab": {
          "base_uri": "https://localhost:8080/"
        },
        "id": "XSmJGcsHNgPg",
        "outputId": "d5aa14df-e172-40a4-8a58-9983366d7427"
      },
      "execution_count": null,
      "outputs": [
        {
          "output_type": "stream",
          "name": "stdout",
          "text": [
            "False\n"
          ]
        }
      ]
    },
    {
      "cell_type": "code",
      "source": [
        "#  application of logical operator\n",
        "abdullah_age=10\n",
        "school_age_limit=5\n",
        "print(abdullah_age==school_age_limit)"
      ],
      "metadata": {
        "colab": {
          "base_uri": "https://localhost:8080/"
        },
        "id": "0_ulwwa6NmMc",
        "outputId": "eff88567-f723-4e0e-94fb-a7c515c651dd"
      },
      "execution_count": null,
      "outputs": [
        {
          "output_type": "stream",
          "name": "stdout",
          "text": [
            "False\n"
          ]
        }
      ]
    },
    {
      "cell_type": "code",
      "source": [
        "# moving to type conversion or type casting\n",
        "x=2\n",
        "y=\"asad\"\n",
        "z=3.0\n",
        "print(type(z))\n",
        "print(type(x))\n",
        "print(type(y))\n",
        "c=x*z\n",
        "print(type(c))\n"
      ],
      "metadata": {
        "colab": {
          "base_uri": "https://localhost:8080/"
        },
        "id": "dNJNGRzqON6P",
        "outputId": "86aae0d1-4af3-4f7c-fb8e-ad2d47940acd"
      },
      "execution_count": null,
      "outputs": [
        {
          "output_type": "stream",
          "name": "stdout",
          "text": [
            "<class 'float'>\n",
            "<class 'int'>\n",
            "<class 'str'>\n",
            "<class 'float'>\n"
          ]
        }
      ]
    },
    {
      "cell_type": "code",
      "source": [
        "x=(input('enter first number '))\n",
        "print(type(x))\n",
        "print(x,type(int(x)))"
      ],
      "metadata": {
        "colab": {
          "base_uri": "https://localhost:8080/"
        },
        "id": "Qi8RJ2WsO3lp",
        "outputId": "e2259e5a-cb4d-49b2-b1da-f8d7ad8e8f74"
      },
      "execution_count": null,
      "outputs": [
        {
          "output_type": "stream",
          "name": "stdout",
          "text": [
            "enter first number 10\n",
            "<class 'str'>\n",
            "10 <class 'int'>\n"
          ]
        }
      ]
    },
    {
      "cell_type": "code",
      "source": [
        "x=(input('enter first number '))\n",
        "print(type(x))\n",
        "print(x,type(int(x))) #if given a float number error will be shown"
      ],
      "metadata": {
        "colab": {
          "base_uri": "https://localhost:8080/",
          "height": 211
        },
        "id": "5pxybMPFPXlj",
        "outputId": "dbc2c596-dcab-4f4f-9267-aa408e46b880"
      },
      "execution_count": null,
      "outputs": [
        {
          "output_type": "stream",
          "name": "stdout",
          "text": [
            "enter first number 10.5\n",
            "<class 'str'>\n"
          ]
        },
        {
          "output_type": "error",
          "ename": "ValueError",
          "evalue": "invalid literal for int() with base 10: '10.5'",
          "traceback": [
            "\u001b[0;31m---------------------------------------------------------------------------\u001b[0m",
            "\u001b[0;31mValueError\u001b[0m                                Traceback (most recent call last)",
            "\u001b[0;32m<ipython-input-18-1be2a77744e0>\u001b[0m in \u001b[0;36m<cell line: 3>\u001b[0;34m()\u001b[0m\n\u001b[1;32m      1\u001b[0m \u001b[0mx\u001b[0m\u001b[0;34m=\u001b[0m\u001b[0;34m(\u001b[0m\u001b[0minput\u001b[0m\u001b[0;34m(\u001b[0m\u001b[0;34m'enter first number '\u001b[0m\u001b[0;34m)\u001b[0m\u001b[0;34m)\u001b[0m\u001b[0;34m\u001b[0m\u001b[0;34m\u001b[0m\u001b[0m\n\u001b[1;32m      2\u001b[0m \u001b[0mprint\u001b[0m\u001b[0;34m(\u001b[0m\u001b[0mtype\u001b[0m\u001b[0;34m(\u001b[0m\u001b[0mx\u001b[0m\u001b[0;34m)\u001b[0m\u001b[0;34m)\u001b[0m\u001b[0;34m\u001b[0m\u001b[0;34m\u001b[0m\u001b[0m\n\u001b[0;32m----> 3\u001b[0;31m \u001b[0mprint\u001b[0m\u001b[0;34m(\u001b[0m\u001b[0mx\u001b[0m\u001b[0;34m,\u001b[0m\u001b[0mtype\u001b[0m\u001b[0;34m(\u001b[0m\u001b[0mint\u001b[0m\u001b[0;34m(\u001b[0m\u001b[0mx\u001b[0m\u001b[0;34m)\u001b[0m\u001b[0;34m)\u001b[0m\u001b[0;34m)\u001b[0m\u001b[0;34m\u001b[0m\u001b[0;34m\u001b[0m\u001b[0m\n\u001b[0m",
            "\u001b[0;31mValueError\u001b[0m: invalid literal for int() with base 10: '10.5'"
          ]
        }
      ]
    },
    {
      "cell_type": "code",
      "source": [
        "#if else\n",
        "abdullah_age=4\n",
        "school_age_limit=5\n",
        "if abdullah_age==school_age_limit:\n",
        "    print(\"abdullah can join the school\")\n",
        "else :\n",
        "    print(\"abdullah cannot join school\")\n"
      ],
      "metadata": {
        "id": "h69bjFnVPtPr",
        "colab": {
          "base_uri": "https://localhost:8080/"
        },
        "outputId": "f7a70205-ec78-4352-ecd5-7b6f06a7eb50"
      },
      "execution_count": 4,
      "outputs": [
        {
          "output_type": "stream",
          "name": "stdout",
          "text": [
            "abdullah cannot join school\n"
          ]
        }
      ]
    },
    {
      "cell_type": "code",
      "source": [
        "#if else elif\n",
        "abdullah_age=10\n",
        "school_age_limit=5\n",
        "if abdullah_age==school_age_limit:\n",
        "    print(\"abdullah can join the school\")\n",
        "elif abdullah_age>school_age_limit:\n",
        "    print(\"abdullah should join higher secondary school\")\n",
        "else :\n",
        "    print(\"abdullah cannot join school\")\n"
      ],
      "metadata": {
        "colab": {
          "base_uri": "https://localhost:8080/"
        },
        "id": "szwyRnj3PrXl",
        "outputId": "6aa723d8-d687-4f67-b473-4c83053be166"
      },
      "execution_count": 5,
      "outputs": [
        {
          "output_type": "stream",
          "name": "stdout",
          "text": [
            "abdullah should join higher secondary school\n"
          ]
        }
      ]
    },
    {
      "cell_type": "code",
      "source": [
        "#functions\n",
        "def print_abdullah(): #function definition\n",
        "    print(\"we are learning with abdullah\")\n",
        "    print(\"we are learning with abdullah\")\n",
        "    print(\"we are learning with abdullah\")\n",
        "print_abdullah() #fuction call"
      ],
      "metadata": {
        "colab": {
          "base_uri": "https://localhost:8080/"
        },
        "id": "CYtNyW-DQCSV",
        "outputId": "68d16661-b376-461f-d628-ff3dcf76b47a"
      },
      "execution_count": 6,
      "outputs": [
        {
          "output_type": "stream",
          "name": "stdout",
          "text": [
            "we are learning with abdullah\n",
            "we are learning with abdullah\n",
            "we are learning with abdullah\n"
          ]
        }
      ]
    },
    {
      "cell_type": "code",
      "source": [
        "text=\"i love python\"\n",
        "def print_text(text):\n",
        "    print(text)\n",
        "    print(text)\n",
        "    print(text)\n",
        "print_text(text)"
      ],
      "metadata": {
        "colab": {
          "base_uri": "https://localhost:8080/"
        },
        "id": "GwHmd4h6UAdF",
        "outputId": "715b3eaa-88d1-44ed-f43e-26cf7e3114d5"
      },
      "execution_count": 9,
      "outputs": [
        {
          "output_type": "stream",
          "name": "stdout",
          "text": [
            "i love python\n",
            "i love python\n",
            "i love python\n"
          ]
        }
      ]
    },
    {
      "cell_type": "code",
      "source": [
        "#defining function with if else elif conditional statements\n",
        "def school_calculator(age):\n",
        "    if age==5:\n",
        "        print(\"abdullah can join the school\")\n",
        "    elif age>5:\n",
        "        print(\"abdullah should join higher secondary school\")\n",
        "    else :\n",
        "        print(\"abdullah cannot join school\")\n",
        "age=int(input(\"enter abdullah age = \"))\n",
        "school_calculator(age)"
      ],
      "metadata": {
        "colab": {
          "base_uri": "https://localhost:8080/"
        },
        "id": "gR6Tc3nCUYIP",
        "outputId": "1c140220-2bfc-4931-e104-08eaa90d2301"
      },
      "execution_count": 14,
      "outputs": [
        {
          "output_type": "stream",
          "name": "stdout",
          "text": [
            "enter abdullah age = 10\n",
            "abdullah should join higher secondary school\n"
          ]
        }
      ]
    },
    {
      "cell_type": "code",
      "source": [
        "#functions with parameters\n",
        "def future_age(age):\n",
        "    new_age=age+20\n",
        "    return new_age\n",
        "    print(new_age)\n",
        "future_predicted_age=future_age(18)\n",
        "print(future_predicted_age)\n",
        "future_predicted_age=future_age(20)\n",
        "print(future_predicted_age)"
      ],
      "metadata": {
        "colab": {
          "base_uri": "https://localhost:8080/"
        },
        "id": "8VNjPM1cU_OL",
        "outputId": "d9530768-a0f7-4c0f-a790-40825e07b14f"
      },
      "execution_count": 17,
      "outputs": [
        {
          "output_type": "stream",
          "name": "stdout",
          "text": [
            "38\n",
            "40\n"
          ]
        }
      ]
    },
    {
      "cell_type": "code",
      "source": [
        "#loops\n",
        "#while loops\n",
        "\n",
        "x=0\n",
        "while (x<=5):\n",
        "    print(x)\n",
        "    x=x+1"
      ],
      "metadata": {
        "colab": {
          "base_uri": "https://localhost:8080/"
        },
        "id": "-iCBhrOcVpQr",
        "outputId": "eac29464-6480-4c7d-890a-f5f6c2703950"
      },
      "execution_count": 18,
      "outputs": [
        {
          "output_type": "stream",
          "name": "stdout",
          "text": [
            "0\n",
            "1\n",
            "2\n",
            "3\n",
            "4\n",
            "5\n"
          ]
        }
      ]
    },
    {
      "cell_type": "code",
      "source": [
        "#for  loops\n",
        "for x in range(5,10):\n",
        "    print(x)\n"
      ],
      "metadata": {
        "colab": {
          "base_uri": "https://localhost:8080/"
        },
        "id": "Q9FcgEhiZlE5",
        "outputId": "134aae9c-6a63-4b35-b12a-0010a5cc6595"
      },
      "execution_count": 19,
      "outputs": [
        {
          "output_type": "stream",
          "name": "stdout",
          "text": [
            "5\n",
            "6\n",
            "7\n",
            "8\n",
            "9\n"
          ]
        }
      ]
    },
    {
      "cell_type": "code",
      "source": [
        "for x in range (10):\n",
        "  print ('hello')"
      ],
      "metadata": {
        "colab": {
          "base_uri": "https://localhost:8080/"
        },
        "id": "cSh3zijVcNe_",
        "outputId": "481d3494-788a-42d1-8127-0fa60a5acd50"
      },
      "execution_count": 20,
      "outputs": [
        {
          "output_type": "stream",
          "name": "stdout",
          "text": [
            "hello\n",
            "hello\n",
            "hello\n",
            "hello\n",
            "hello\n",
            "hello\n",
            "hello\n",
            "hello\n",
            "hello\n",
            "hello\n"
          ]
        }
      ]
    },
    {
      "cell_type": "code",
      "source": [
        "days=[\"mon\",\"tue\",\"wed\",\"thu\",\"fri\",\"sat\",\"sun\"] #array declaration\n",
        "for i in days:\n",
        "    print(i)"
      ],
      "metadata": {
        "colab": {
          "base_uri": "https://localhost:8080/"
        },
        "id": "9sX_GcFJccpx",
        "outputId": "cf2a4f1e-cf61-4e41-c518-d8ef34e4081c"
      },
      "execution_count": 24,
      "outputs": [
        {
          "output_type": "stream",
          "name": "stdout",
          "text": [
            "mon\n",
            "tue\n",
            "wed\n",
            "thu\n",
            "fri\n",
            "sat\n",
            "sun\n"
          ]
        }
      ]
    },
    {
      "cell_type": "code",
      "source": [
        "days=[\"mon\",\"tue\",\"wed\",\"thu\",\"fri\",\"sat\",\"sun\"] #array declaration\n",
        "for i in days:\n",
        "    if (i==\"fri\"):\n",
        "      break\n",
        "    print(i)"
      ],
      "metadata": {
        "colab": {
          "base_uri": "https://localhost:8080/"
        },
        "id": "MjrHy9R4c6Q_",
        "outputId": "b6053513-b98c-4809-dda5-5c4601cee062"
      },
      "execution_count": 25,
      "outputs": [
        {
          "output_type": "stream",
          "name": "stdout",
          "text": [
            "mon\n",
            "tue\n",
            "wed\n",
            "thu\n"
          ]
        }
      ]
    },
    {
      "cell_type": "code",
      "source": [
        "days=[\"mon\",\"tue\",\"wed\",\"thu\",\"fri\",\"sat\",\"sun\"] #array declaration\n",
        "for i in days:\n",
        "    if (i==\"fri\"):\n",
        "      continue\n",
        "    print(i)"
      ],
      "metadata": {
        "colab": {
          "base_uri": "https://localhost:8080/"
        },
        "id": "rwHM6t2jd3_n",
        "outputId": "88b35b97-583a-4bdd-d566-6118d5b06933"
      },
      "execution_count": 26,
      "outputs": [
        {
          "output_type": "stream",
          "name": "stdout",
          "text": [
            "mon\n",
            "tue\n",
            "wed\n",
            "thu\n",
            "sat\n",
            "sun\n"
          ]
        }
      ]
    }
  ]
}