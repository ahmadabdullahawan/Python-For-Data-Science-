{
  "nbformat": 4,
  "nbformat_minor": 0,
  "metadata": {
    "colab": {
      "provenance": []
    },
    "kernelspec": {
      "name": "python3",
      "display_name": "Python 3"
    },
    "language_info": {
      "name": "python"
    }
  },
  "cells": [
    {
      "cell_type": "code",
      "execution_count": null,
      "metadata": {
        "id": "CUFomuDXwVS_",
        "colab": {
          "base_uri": "https://localhost:8080/"
        },
        "outputId": "3a2fdde9-304d-4d82-d69f-75922bf95ed4"
      },
      "outputs": [
        {
          "output_type": "stream",
          "name": "stdout",
          "text": [
            "hello world\n"
          ]
        }
      ],
      "source": [
        "print('hello world')"
      ]
    },
    {
      "cell_type": "code",
      "source": [
        "x=1+2*3\n",
        "print(x)"
      ],
      "metadata": {
        "colab": {
          "base_uri": "https://localhost:8080/"
        },
        "id": "EPU7NF_5_ePg",
        "outputId": "23ad7672-1fe3-4a33-a261-539ab3ea98fa"
      },
      "execution_count": null,
      "outputs": [
        {
          "output_type": "stream",
          "name": "stdout",
          "text": [
            "7\n"
          ]
        }
      ]
    },
    {
      "cell_type": "code",
      "source": [
        "print(2+3)"
      ],
      "metadata": {
        "colab": {
          "base_uri": "https://localhost:8080/"
        },
        "id": "5gg65saU_oLn",
        "outputId": "caea523e-00ca-4c78-b9ce-d5eaa05844e5"
      },
      "execution_count": null,
      "outputs": [
        {
          "output_type": "stream",
          "name": "stdout",
          "text": [
            "5\n"
          ]
        }
      ]
    },
    {
      "cell_type": "code",
      "source": [
        "print('operators in python')"
      ],
      "metadata": {
        "colab": {
          "base_uri": "https://localhost:8080/"
        },
        "id": "BB7MDDwtAgcn",
        "outputId": "d5321347-a260-4e46-cb92-346ccbaafe9d"
      },
      "execution_count": null,
      "outputs": [
        {
          "output_type": "stream",
          "name": "stdout",
          "text": [
            "operators in python\n"
          ]
        }
      ]
    },
    {
      "cell_type": "code",
      "source": [
        "print(3+2)\n",
        "print(3-2)\n"
      ],
      "metadata": {
        "colab": {
          "base_uri": "https://localhost:8080/"
        },
        "id": "BamiZvDOAlJU",
        "outputId": "fdcdeef0-0bb1-43e3-9497-a2c9c54d7135"
      },
      "execution_count": null,
      "outputs": [
        {
          "output_type": "stream",
          "name": "stdout",
          "text": [
            "5\n",
            "1\n"
          ]
        }
      ]
    },
    {
      "cell_type": "code",
      "source": [
        "print(12/3) # if you want the answer in float"
      ],
      "metadata": {
        "colab": {
          "base_uri": "https://localhost:8080/"
        },
        "id": "870QkB2AAyYv",
        "outputId": "734a58ad-72dd-43cc-a5c3-a2d7f3f8e625"
      },
      "execution_count": null,
      "outputs": [
        {
          "output_type": "stream",
          "name": "stdout",
          "text": [
            "4.0\n"
          ]
        }
      ]
    },
    {
      "cell_type": "code",
      "source": [
        "print(12//3) # if you want the answer in integer"
      ],
      "metadata": {
        "id": "29Ws9DwNBxo5"
      },
      "execution_count": null,
      "outputs": []
    },
    {
      "cell_type": "code",
      "source": [
        "print(12 % 3) # remainder operator\n"
      ],
      "metadata": {
        "colab": {
          "base_uri": "https://localhost:8080/"
        },
        "id": "JxYLyck8A4q6",
        "outputId": "d0fb1598-79ae-4dd0-8990-3fe59ac82ad2"
      },
      "execution_count": null,
      "outputs": [
        {
          "output_type": "stream",
          "name": "stdout",
          "text": [
            "0\n"
          ]
        }
      ]
    },
    {
      "cell_type": "code",
      "source": [
        "print(13%2)"
      ],
      "metadata": {
        "colab": {
          "base_uri": "https://localhost:8080/"
        },
        "id": "JKbAr0bM2oae",
        "outputId": "f82bf297-5797-449b-c6dd-91dbaede4891"
      },
      "execution_count": 1,
      "outputs": [
        {
          "output_type": "stream",
          "name": "stdout",
          "text": [
            "1\n"
          ]
        }
      ]
    },
    {
      "cell_type": "code",
      "source": [
        "print(2**3) # exponent\n"
      ],
      "metadata": {
        "colab": {
          "base_uri": "https://localhost:8080/"
        },
        "id": "3QdnRHXNB5wE",
        "outputId": "6d151bea-5c87-482f-b653-6dd61565d439"
      },
      "execution_count": null,
      "outputs": [
        {
          "output_type": "stream",
          "name": "stdout",
          "text": [
            "8\n"
          ]
        }
      ]
    },
    {
      "cell_type": "code",
      "source": [
        "# In python the rule of PEMDAS is applied(PARANTHESIS EXPONENT MULTIPLICATION DIVISON ADDITION SUBTRACTION)"
      ],
      "metadata": {
        "id": "7rEXpm5UCKn1"
      },
      "execution_count": null,
      "outputs": []
    },
    {
      "cell_type": "code",
      "source": [
        "#STRINGS\n",
        "print('hello')\n",
        "print(\"hello\")\n",
        "print(\"hello's world\")\n",
        "print('''\n",
        "I AM ABDULLAH\n",
        "I AM LEARNING\n",
        "PYTHON\n",
        "''')"
      ],
      "metadata": {
        "colab": {
          "base_uri": "https://localhost:8080/"
        },
        "id": "EYsb-XgL5W3H",
        "outputId": "22014e3a-c91b-45b7-9b9f-d32bc03cf9e0"
      },
      "execution_count": 3,
      "outputs": [
        {
          "output_type": "stream",
          "name": "stdout",
          "text": [
            "hello\n",
            "hello\n",
            "hello's world\n",
            "\n",
            "I AM ABDULLAH \n",
            "I AM LEARNING\n",
            "PYTHON\n",
            "\n"
          ]
        }
      ]
    },
    {
      "cell_type": "code",
      "source": [
        "#VARIABLES\n",
        "#WHAT ARE VARIABLES?\n",
        "#VARIABLES ARE JUST LIKE OBJECTS CONTAINING VALUES ITS JUST LIKE A SPACE HOLDER\n",
        "x=5 #numeric variable\n",
        "print(x)\n",
        "y='abdullah ahmad'#string variable\n",
        "print(y)\n",
        "x=x+20\n",
        "print(x)"
      ],
      "metadata": {
        "colab": {
          "base_uri": "https://localhost:8080/"
        },
        "id": "IL1VpN6JAIGC",
        "outputId": "e3ced63e-ca47-4d58-d2a8-fcea78b38ba7"
      },
      "execution_count": 4,
      "outputs": [
        {
          "output_type": "stream",
          "name": "stdout",
          "text": [
            "5\n",
            "abdullah ahmad\n",
            "25\n"
          ]
        }
      ]
    },
    {
      "cell_type": "code",
      "source": [
        "#now we are going to see types of variables or class of variable\n",
        "print(type(x))\n",
        "print(type(y))"
      ],
      "metadata": {
        "colab": {
          "base_uri": "https://localhost:8080/"
        },
        "id": "fQj9oU0nBBvh",
        "outputId": "55942396-d7f3-4a73-ac70-450b23be3cd8"
      },
      "execution_count": 5,
      "outputs": [
        {
          "output_type": "stream",
          "name": "stdout",
          "text": [
            "<class 'int'>\n",
            "<class 'str'>\n"
          ]
        }
      ]
    },
    {
      "cell_type": "code",
      "source": [
        "#rules for variables 1 no spaces in variables 2 will start with letters or underscores\n",
        "#3 will never start with numbers 4 donot use keywords in variables name\n",
        "#5 short and descreptive # Case sensitivity\n"
      ],
      "metadata": {
        "id": "959nKgfxBlru"
      },
      "execution_count": 6,
      "outputs": []
    },
    {
      "cell_type": "code",
      "source": [
        "#updation\n",
        "x='abdullah'\n",
        "x=5\n",
        "print(type(x))\n",
        "print(x)"
      ],
      "metadata": {
        "colab": {
          "base_uri": "https://localhost:8080/"
        },
        "id": "Lc5WTXzXCIlR",
        "outputId": "e6be1ba5-671f-4552-b3e4-a953330a34ee"
      },
      "execution_count": 8,
      "outputs": [
        {
          "output_type": "stream",
          "name": "stdout",
          "text": [
            "<class 'int'>\n",
            "5\n"
          ]
        }
      ]
    },
    {
      "cell_type": "code",
      "source": [
        "#input\n",
        "x=input('enter your name')\n",
        "print(x)"
      ],
      "metadata": {
        "colab": {
          "base_uri": "https://localhost:8080/"
        },
        "id": "W9YofDD9DikI",
        "outputId": "325c1be7-9f09-4e3b-c3c0-5042264d288c"
      },
      "execution_count": 9,
      "outputs": [
        {
          "output_type": "stream",
          "name": "stdout",
          "text": [
            "enter your nameabdullah\n",
            "abdullah\n"
          ]
        }
      ]
    },
    {
      "cell_type": "code",
      "source": [
        "x=input('enter your name')\n",
        "print('hello',x)"
      ],
      "metadata": {
        "colab": {
          "base_uri": "https://localhost:8080/"
        },
        "id": "kb1airyZDq6V",
        "outputId": "72349bd8-3087-47a1-a337-55f81ad8656d"
      },
      "execution_count": 10,
      "outputs": [
        {
          "output_type": "stream",
          "name": "stdout",
          "text": [
            "enter your nameasad\n",
            "hello asad\n"
          ]
        }
      ]
    }
  ]
}